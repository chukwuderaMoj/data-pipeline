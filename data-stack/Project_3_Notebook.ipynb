{
 "cells": [
  {
   "cell_type": "markdown",
   "metadata": {},
   "source": [
    "for permissions in .sh files run \"chmod u+x filename.sh\"\n",
    "\n",
    "##Terminal 1\n",
    "\n",
    "docker-compose up -d  \n",
    "./step1_spinup.sh\n",
    "\n",
    "this will: \n",
    "-Create topic \"events\"\n",
    "-Describe Topic \"events\"\n",
    "-Spin Up Game game_api.py\n",
    "\n",
    "\n",
    "##Terminal 2\n",
    "\n",
    "./step2_consumer.sh\n",
    "\n",
    "this will: \n",
    "-Launch Kafka Consumer for topic \"events\"\n",
    "\n",
    "\n",
    "##Terminal 3\n",
    "\n",
    "./step3_producemessages.sh\n",
    "\n",
    "this will: \n",
    "-Run a watch command for benchevents.sh that will create a random event every 3 seconds while running.\n",
    "\n"
   ]
  },
  {
   "cell_type": "code",
   "execution_count": 1,
   "metadata": {
    "collapsed": true
   },
   "outputs": [],
   "source": [
    "import json\n",
    "from pyspark.sql import SparkSession, Row\n",
    "from pyspark.sql.functions import udf, from_json\n",
    "from pyspark.sql.types import StructType, StructField, StringType, IntegerType, BooleanType\n",
    "import time"
   ]
  },
  {
   "cell_type": "code",
   "execution_count": 9,
   "metadata": {},
   "outputs": [
    {
     "data": {
      "text/plain": [
       "DataFrame[]"
      ]
     },
     "execution_count": 9,
     "metadata": {},
     "output_type": "execute_result"
    }
   ],
   "source": [
    "extracted_join_guild_events = spark.read.parquet('/tmp/join_guild')\n",
    "extracted_join_guild_events = extracted_join_guild_events.rdd.map(lambda r: Row(timestamp=r.timestamp, **json.loads(r.raw_event))).toDF()\n",
    "extracted_join_guild_events.registerTempTable(\"extracted_join_guild_events\")\n",
    "if spark._jsparkSession.catalog().tableExists(\"default\", \"join_guild\"):\n",
    "    query = \"\"\"\n",
    "            insert overwrite table join_guild\n",
    "            select * from extracted_join_guild_events\n",
    "        \"\"\"\n",
    "else:\n",
    "    query = \"\"\"\n",
    "            create external table join_guild\n",
    "            stored as parquet\n",
    "            location '/tmp/hive_join_guild'\n",
    "            as\n",
    "            select * from extracted_join_guild_events\n",
    "        \"\"\"\n",
    "spark.sql(query)\n"
   ]
  },
  {
   "cell_type": "code",
   "execution_count": null,
   "metadata": {},
   "outputs": [],
   "source": [
    "\n",
    "\n"
   ]
  },
  {
   "cell_type": "code",
   "execution_count": null,
   "metadata": {
    "collapsed": true
   },
   "outputs": [],
   "source": []
  },
  {
   "cell_type": "code",
   "execution_count": null,
   "metadata": {},
   "outputs": [],
   "source": []
  },
  {
   "cell_type": "code",
   "execution_count": null,
   "metadata": {
    "collapsed": true
   },
   "outputs": [],
   "source": []
  },
  {
   "cell_type": "code",
   "execution_count": null,
   "metadata": {
    "collapsed": true
   },
   "outputs": [],
   "source": []
  }
 ],
 "metadata": {
  "kernelspec": {
   "display_name": "Python 3",
   "language": "python",
   "name": "python3"
  },
  "language_info": {
   "codemirror_mode": {
    "name": "ipython",
    "version": 3
   },
   "file_extension": ".py",
   "mimetype": "text/x-python",
   "name": "python",
   "nbconvert_exporter": "python",
   "pygments_lexer": "ipython3",
   "version": "3.6.1"
  }
 },
 "nbformat": 4,
 "nbformat_minor": 2
}
